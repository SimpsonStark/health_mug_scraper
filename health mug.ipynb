{
 "cells": [
  {
   "cell_type": "code",
   "execution_count": 1,
   "metadata": {},
   "outputs": [],
   "source": [
    "import requests\n",
    "import selenium\n",
    "from selenium.webdriver.common.keys import Keys\n",
    "from bs4 import BeautifulSoup\n",
    "import time\n",
    "import urllib.request\n",
    "import os\n",
    "import shutil"
   ]
  },
  {
   "cell_type": "code",
   "execution_count": 2,
   "metadata": {},
   "outputs": [],
   "source": [
    "browser_agent = {'agent' : 'Mozilla/5.0 (Windows NT 6.1; ) AppleWebKit/537.36 (KHTML, like Gecko) Chrome/81.0.4044.122 Safari/537.36'}"
   ]
  },
  {
   "cell_type": "code",
   "execution_count": null,
   "metadata": {},
   "outputs": [
    {
     "name": "stdout",
     "output_type": "stream",
     "text": [
      "1 2 3 4 5 6 7 8 9 10 11 12 13 14 15 16 17 18 19 20 21 22 23 24 25 26 27 28 29 30 31 32 33 34 35 36 37 38 39 40 41 42 43 44 45 46 47 48 49 50 51 52 53 54 55 56 57 58 59 60 61 62 63 64 65 66 67 68 69 70 71 72 73 74 75 76 77 78 79 80 81 82 83 84 85 86 87 88 89 90 91 92 93 94 95 96 97 98 99 100 101 102 103 104 105 106 107 108 109 110 111 112 113 114 115 116 117 118 119 120 121 122 123 124 125 126 127 128 129 130 131 132 133 134 135 136 137 138 139 140 "
     ]
    }
   ],
   "source": [
    "#main page\n",
    "url = open(r'C:\\Users\\mcc\\Downloads\\health mug project\\Bach Flower Remedies _ Healthmug.html')\n",
    "soup = BeautifulSoup(url.read(), 'html.parser')\n",
    "\n",
    "# product_container = driver.findAll('div', attrs = {'class' : 'productBox productBoxListPage wavelet'})\n",
    "product_container = soup.findAll('div', attrs = {'class' : 'productBox productBoxListPage wavelet'})\n",
    "\n",
    "product_link_container = []\n",
    "for product in product_container:\n",
    "    link = product.findAll('a')\n",
    "    try:\n",
    "        product_link = link[1]['href']\n",
    "    except:\n",
    "        product_link = link[0]['href']\n",
    "    product_link_container.append(product_link)\n",
    "    \n",
    "\n",
    "base_dir = os.getcwd()\n",
    "dir_name = 'homeopathy back flower'\n",
    "dir_path = os.path.join(base_dir, dir_name)\n",
    "if not os.path.exists(dir_path):\n",
    "        os.mkdir(dir_path)\n",
    "\n",
    "#product page\n",
    "count = 0\n",
    "for url in product_link_container:\n",
    "    try:\n",
    "        path = url\n",
    "    except:\n",
    "        path = 'https://www.healthmug.com' + url\n",
    "    product_url = requests.get(path, headers = browser_agent)\n",
    "    product_soup = BeautifulSoup(product_url.content, 'html.parser')\n",
    "\n",
    "#product name\n",
    "    product_container = product_soup.find('div', attrs = {'class' : 'prodcutDetailTitle'})\n",
    "    try:\n",
    "        product_name = product_container.h1.text.replace(',','')\n",
    "    except:\n",
    "        product_name = ' '\n",
    "\n",
    "#product tile\n",
    "    try:\n",
    "        product_description = product_container.h2.text.replace(',','')\n",
    "    except:\n",
    "        product_description = ' '\n",
    "\n",
    "#product MRP\n",
    "\n",
    "    product_price_container = product_soup.find('div', attrs = {'class' : 'productDetailPrice'})\n",
    "    product_regural = product_price_container.find('span', attrs = {'class' : 'productBoxSellingPrice'}).text.replace(',','')\n",
    "    try:\n",
    "        product_mrp = product_price_container.find('span', attrs = {'class' : 'productBoxMRP'}).text.split('\\xa0 ')[1]\n",
    "    except:\n",
    "        product_mrp = product_regural\n",
    "        \n",
    "#discount\n",
    "    try:\n",
    "        product_discount = product_soup.find('span', attrs = {'class' : 'productBoxDiscount'}).text.replace(',','')\n",
    "    except:\n",
    "        product_discount = ' '\n",
    "   \n",
    "    \n",
    "#product details\n",
    "    try:\n",
    "        product_details = product_soup.find('div', attrs = {'class' : 'boxWhite productDetailDesc'}).text.replace(',','')\n",
    "        product_details = product_details.replace('\\n', '|')\n",
    "    except:\n",
    "        product_details = ' '\n",
    "#Product Image\n",
    "    img_path = product_soup.find('div', attrs = {'class' : 'imgMain drift-demo-trigger'}).div.img['src'].replace('30','400')\n",
    "    img_name = f'{count}.png'\n",
    "    r = requests.get(img_path, stream=True)\n",
    "    if r.status_code == 200:\n",
    "        with open(f'{dir_name}/{img_name}', 'wb') as f:\n",
    "            r.raw.decode_content = True\n",
    "            shutil.copyfileobj(r.raw, f)\n",
    "        \n",
    "    time.sleep(3)\n",
    "        \n",
    "    with open('homeopathy_backflower.csv', 'a', encoding = 'utf-8', newline = \"\") as f:\n",
    "        f.write(product_name + ',' + product_description + ',' + product_mrp + ',' + product_regural + ',' + product_discount + ',' + product_details + ',' + img_name + '\\n')\n",
    "    count += 1\n",
    "    print(count, end = \" \")\n"
   ]
  },
  {
   "cell_type": "code",
   "execution_count": null,
   "metadata": {},
   "outputs": [],
   "source": []
  },
  {
   "cell_type": "code",
   "execution_count": null,
   "metadata": {},
   "outputs": [],
   "source": []
  },
  {
   "cell_type": "code",
   "execution_count": null,
   "metadata": {},
   "outputs": [],
   "source": []
  },
  {
   "cell_type": "code",
   "execution_count": null,
   "metadata": {},
   "outputs": [],
   "source": []
  },
  {
   "cell_type": "code",
   "execution_count": null,
   "metadata": {},
   "outputs": [],
   "source": []
  },
  {
   "cell_type": "code",
   "execution_count": null,
   "metadata": {},
   "outputs": [],
   "source": []
  },
  {
   "cell_type": "code",
   "execution_count": null,
   "metadata": {},
   "outputs": [],
   "source": []
  },
  {
   "cell_type": "code",
   "execution_count": null,
   "metadata": {},
   "outputs": [],
   "source": []
  },
  {
   "cell_type": "code",
   "execution_count": null,
   "metadata": {},
   "outputs": [],
   "source": []
  },
  {
   "cell_type": "code",
   "execution_count": null,
   "metadata": {},
   "outputs": [],
   "source": []
  },
  {
   "cell_type": "code",
   "execution_count": null,
   "metadata": {},
   "outputs": [],
   "source": []
  },
  {
   "cell_type": "code",
   "execution_count": null,
   "metadata": {},
   "outputs": [],
   "source": []
  },
  {
   "cell_type": "code",
   "execution_count": null,
   "metadata": {},
   "outputs": [],
   "source": []
  },
  {
   "cell_type": "code",
   "execution_count": null,
   "metadata": {},
   "outputs": [],
   "source": []
  },
  {
   "cell_type": "code",
   "execution_count": null,
   "metadata": {},
   "outputs": [],
   "source": []
  },
  {
   "cell_type": "code",
   "execution_count": null,
   "metadata": {},
   "outputs": [],
   "source": []
  }
 ],
 "metadata": {
  "kernelspec": {
   "display_name": "Python 3",
   "language": "python",
   "name": "python3"
  },
  "language_info": {
   "codemirror_mode": {
    "name": "ipython",
    "version": 3
   },
   "file_extension": ".py",
   "mimetype": "text/x-python",
   "name": "python",
   "nbconvert_exporter": "python",
   "pygments_lexer": "ipython3",
   "version": "3.7.3"
  }
 },
 "nbformat": 4,
 "nbformat_minor": 2
}
